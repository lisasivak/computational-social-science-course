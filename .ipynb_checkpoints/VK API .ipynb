{
 "cells": [
  {
   "cell_type": "markdown",
   "metadata": {},
   "source": [
    "# VK API\n",
    "\n",
    "В этом скрипте мы будем разбираться, как выкачивать данные Вконтакте с помощью API. <br>\n",
    "Вконтакте, как и некоторые другие ресурсы (твиттер, ютьюб и др.), предоставляет всем желающим список команд для сбора нужных данных. Этот готовый набор команд называется application programming interface или API. Пользоваться API гораздо удобнее, чем собирать вручную информацию со страниц в интернете (веб-скрейпинг), самостоятельно придумывая для каждого типа данных отдельные команды. API значительно упрощает сбор данных - можно обращаться к сервису напрямую и получать готовые данные в структурированном виде. \n",
    "\n",
    "У API ВКонтакте есть подробная [документация](https://dev.vk.com/api/getting-started). Может показаться, что все очень сложно, но после некоторой практики точно станет понятнее. \n",
    "\n",
    "Например, [здесь](https://dev.vk.com/method) приведен список всех методов API. А [здесь](https://dev.vk.com/method/users) можно посмотреть список методов, связанных с пользователями. Методы API предназначены прежде всего для разработки приложений, это нужно учитывать, читая описание методов. Далеко не все из них нас интересуют. Значительная часть может вызываться, только если пользователи установили созданное нами приложение. Среди методов пользователей нас интересует получение [информации о пользователях](https://dev.vk.com/method/users.get), а также [поиск пользователей](https://dev.vk.com/method/users.search), удовлетворяющих заданным критериям. <br>\n",
    "\n"
   ]
  },
  {
   "cell_type": "markdown",
   "metadata": {},
   "source": [
    "### Cоздание приложения\n",
    "Перед тем как работать с API ВКонтакте, нужно зарегистрироваться в социальной сети (если вы этого еще не сделали) и создать специальное приложение.\n",
    "\n",
    "Для создания приложения нужно залогиниться на ВКонтакте и перейти по следующей [ссылке](https://vk.com/apps?act=manage). Затем нажать создать приложение. Выберите любое название и опцию Standalone приложение. Никаких настроек больше менять не требуется.\n",
    "\n",
    "Теперь перейдите в раздел Настройки (Settings) слева и скопируйте **Сервисный ключ доступа** (Service token) в ячейку скрипта ниже. Это специальный ключ, который дает ВКонтакте понять, что запросы выполняются от имени вашего приложения. \n",
    "Давать этот ключ никому нельзя, чтобы никто от вашего имени не сделал ничего плохого."
   ]
  },
  {
   "cell_type": "code",
   "execution_count": 1,
   "metadata": {},
   "outputs": [],
   "source": [
    "SERVICE = \"ccbad29accbad29accbad29ac2ccc1e951cccbaccbad29aaebfc4dc24ff155a075ca47a\" # СКОПИРУЙТЕ СЮДА ВАШ СЕРВИСНЫЙ КЛЮЧ ДОСТУПА"
   ]
  },
  {
   "cell_type": "markdown",
   "metadata": {},
   "source": [
    "\n",
    "\n",
    "\n",
    "### Пакет vk-requests\n",
    "Для питона есть большое количество готовых пакетов на все случае жизни. В том числе [для работы с API ВКонтакте](https://prawn-cake.github.io/vk-requests/). В документации этого пакета нужно искать информацию о том, как должны выглядеть команды в питоне. Документация пакета и документация API Vk - все, что нужно, чтобы скачать нужные данные.\n",
    "\n",
    "Для начала нужно установить пакет, и можно попробовать получить первые данные от ВКонтакте"
   ]
  },
  {
   "cell_type": "code",
   "execution_count": null,
   "metadata": {},
   "outputs": [],
   "source": [
    "!pip install vk-requests"
   ]
  },
  {
   "cell_type": "code",
   "execution_count": 7,
   "metadata": {},
   "outputs": [
    {
     "data": {
      "text/plain": [
       "[{'id': 1,\n",
       "  'first_name': 'Pavel',\n",
       "  'last_name': 'Durov',\n",
       "  'can_access_closed': True,\n",
       "  'is_closed': False,\n",
       "  'sex': 2,\n",
       "  'books': ''},\n",
       " {'id': 2,\n",
       "  'first_name': 'Alexandra',\n",
       "  'last_name': 'Vladimirova',\n",
       "  'can_access_closed': False,\n",
       "  'is_closed': True,\n",
       "  'sex': 1},\n",
       " {'id': 3,\n",
       "  'deactivated': 'deleted',\n",
       "  'first_name': 'DELETED',\n",
       "  'last_name': '',\n",
       "  'sex': 0}]"
      ]
     },
     "execution_count": 7,
     "metadata": {},
     "output_type": "execute_result"
    }
   ],
   "source": [
    "# Подключаем установленный модуль\n",
    "import vk_requests\n",
    "\n",
    "# Создаем переменную для работы с API\n",
    "# Как мы узнали, что эта строчка должна выглядеть именно так? Ответ: из документации пакета\n",
    "api = vk_requests.create_api(service_token = SERVICE)\n",
    "\n",
    "# Выполним пробный запрос: попросим выдать нам информацию о пользователях с идентификаторами 1 и 2\n",
    "# Информацию о запросе берем из документации ВКонтакте https://dev.vk.com/method/users.get\n",
    "# а информацию о том, как прописывать команду, берем из описания пакета https://prawn-cake.github.io/vk-requests/#simple-queries\n",
    "\n",
    "# Вначале не будем задавать никаких дополнительных параметров\n",
    "# попробуйте сами сконструировать запрос, используя документацию пакета\n",
    "\n",
    "result = api.users.get(user_ids = [1,2,3],  fields=['sex','books'])\n",
    "\n",
    "# А теперь давайте попробуем задать дополнительные параметры - например, попросим выдать информацию о поле пользователя\n",
    "# попробуйте сами сконструировать запрос, используя документацию пакета и документацию Vk Api о методе user.get\n",
    "\n",
    "#result = ....\n",
    "\n",
    "# Выводим результат\n",
    "result"
   ]
  },
  {
   "cell_type": "markdown",
   "metadata": {},
   "source": [
    "## Записи пользователей\n"
   ]
  },
  {
   "cell_type": "code",
   "execution_count": 15,
   "metadata": {},
   "outputs": [
    {
     "data": {
      "text/plain": [
       "'Иногда говорят, что Telegram был заблокирован в России, так как “закон есть закон”. Однако Telegram заблокирован в России как раз вопреки главному закону страны – Конституции. Решения судов и законы, противоречащие Конституции, не имеют силы. А это значит, что и сама блокировка Telegram незаконна. \\n\\nЕсли бы ФСБ ограничилась запросом информации о нескольких террористах, то ее требование вписывалось бы в рамки Конституции. Однако речь идет о передаче универсальных ключей шифрования с целью последующего бесконтрольного доступа к переписке неограниченного круга лиц. A это – прямое нарушение 23-й статьи Конституции о праве каждого на тайну переписки.\\n\\nПо этой причине юристы из “Агоры” сегодня обжаловали решение Верховного суда России о законности приказа ФСБ. Надеюсь, власти России откажутся от языка неисполнимых ультиматумов, на котором сегодня ведется диалог с технологическими компаниями.\\n\\nНезависимо от этого, мы продолжим борьбу за Telegram в России. История наших предков учит биться до победного конца. \\n\\nС Днем Победы!'"
      ]
     },
     "execution_count": 15,
     "metadata": {},
     "output_type": "execute_result"
    }
   ],
   "source": [
    "# Попробуйте сами сконструировать запрос, чтобы получить 10 постов любого пользователя\n",
    "# Для этого используйте информацию о методе Wall https://dev.vk.com/method/wall\n",
    "\n",
    "# В описании пакета не приводится команда для использования этого метода -- \n",
    "# - в таких случаях можно попробовать действовать по аналогии с запросами, которые вы уже знаете, экспериментировать или гуглить\n",
    "\n",
    "\n",
    "result = api.wall.get(owner_id = 1)#, count = 100, offset = 100\n",
    "result['items'][0]['text']"
   ]
  },
  {
   "cell_type": "code",
   "execution_count": null,
   "metadata": {},
   "outputs": [],
   "source": [
    "# Еще задача - как узнать, сколько постов выдается по умолчанию? Напишите код\n",
    "\n"
   ]
  },
  {
   "cell_type": "code",
   "execution_count": null,
   "metadata": {},
   "outputs": [],
   "source": [
    "# Максимально возможное число постов за один запрос - 100\n",
    "# Как получить все посты, написанные пользователем, если максимально возможное число за один запрос - 100?\n",
    "# Для ответа на вопрос используйте информацию о методе Wall https://dev.vk.com/method/wall\n",
    "\n"
   ]
  },
  {
   "cell_type": "code",
   "execution_count": null,
   "metadata": {},
   "outputs": [],
   "source": [
    "# Еще одно задание:\n",
    "# допустим, вы хотите как-то проанализировать текст поста, но в переменной results сейчас много другой информации\n",
    "# попробуйте разобраться в структуре данных, которая записана в переменную results, \n",
    "# и написать команду, которая напечатает нам текст первого поста \n",
    "\n",
    "result[...]"
   ]
  },
  {
   "cell_type": "markdown",
   "metadata": {},
   "source": [
    "## Друзья"
   ]
  },
  {
   "cell_type": "code",
   "execution_count": 16,
   "metadata": {},
   "outputs": [
    {
     "data": {
      "text/plain": [
       "{'count': 50,\n",
       " 'items': [22550,\n",
       "  27876,\n",
       "  65887,\n",
       "  77127,\n",
       "  79077,\n",
       "  740030,\n",
       "  851865,\n",
       "  864178,\n",
       "  876735,\n",
       "  902501,\n",
       "  1072719,\n",
       "  1400114,\n",
       "  1563748,\n",
       "  1638785,\n",
       "  1652147,\n",
       "  1807812,\n",
       "  2037676,\n",
       "  2212534,\n",
       "  2304503,\n",
       "  2425841,\n",
       "  2455722,\n",
       "  2839329,\n",
       "  3030783,\n",
       "  3047469,\n",
       "  3060944,\n",
       "  3108987,\n",
       "  3207236,\n",
       "  3353409,\n",
       "  3407090,\n",
       "  3424616,\n",
       "  3486908,\n",
       "  3613042,\n",
       "  3801466,\n",
       "  5287708,\n",
       "  5404763,\n",
       "  11741452,\n",
       "  17623389,\n",
       "  23240705,\n",
       "  39654941,\n",
       "  45168141,\n",
       "  50947413,\n",
       "  91935647,\n",
       "  167220650,\n",
       "  186992840,\n",
       "  232522915,\n",
       "  377028169,\n",
       "  405341049,\n",
       "  443701771,\n",
       "  487153448,\n",
       "  572066422]}"
      ]
     },
     "execution_count": 16,
     "metadata": {},
     "output_type": "execute_result"
    }
   ],
   "source": [
    "# Аналогично можно использовать API для получения информации о друзьях пользователя\n",
    "# Документация доступна тут https://dev.vk.com/method/friends\n",
    "# Скачаем для пользователя №166767894 id всех его друзей \n",
    "\n",
    "# Позже с помощью этих id можно скачать информацию об этих друзьях, либо просто определить общее число друзей\n",
    "\n",
    "ego_friends = api.friends.get(user_id ='578')\n",
    "ego_friends\n"
   ]
  },
  {
   "cell_type": "code",
   "execution_count": 17,
   "metadata": {},
   "outputs": [
    {
     "name": "stdout",
     "output_type": "stream",
     "text": [
      "1 out of 50\n",
      "2 out of 50\n",
      "Something is wrong...\n",
      "3 out of 50\n",
      "4 out of 50\n",
      "5 out of 50\n",
      "6 out of 50\n",
      "7 out of 50\n",
      "8 out of 50\n",
      "Something is wrong...\n",
      "9 out of 50\n",
      "10 out of 50\n",
      "11 out of 50\n",
      "12 out of 50\n",
      "13 out of 50\n",
      "14 out of 50\n",
      "15 out of 50\n",
      "16 out of 50\n",
      "17 out of 50\n",
      "18 out of 50\n",
      "19 out of 50\n",
      "20 out of 50\n",
      "21 out of 50\n",
      "Something is wrong...\n",
      "22 out of 50\n",
      "Something is wrong...\n",
      "23 out of 50\n",
      "24 out of 50\n",
      "25 out of 50\n",
      "26 out of 50\n",
      "27 out of 50\n",
      "28 out of 50\n",
      "29 out of 50\n",
      "30 out of 50\n",
      "31 out of 50\n",
      "Something is wrong...\n",
      "32 out of 50\n",
      "33 out of 50\n",
      "34 out of 50\n",
      "Something is wrong...\n",
      "35 out of 50\n",
      "36 out of 50\n",
      "37 out of 50\n",
      "38 out of 50\n",
      "39 out of 50\n",
      "40 out of 50\n",
      "Something is wrong...\n",
      "41 out of 50\n",
      "42 out of 50\n",
      "43 out of 50\n",
      "Something is wrong...\n",
      "44 out of 50\n",
      "45 out of 50\n",
      "Something is wrong...\n",
      "46 out of 50\n",
      "47 out of 50\n",
      "48 out of 50\n",
      "Something is wrong...\n",
      "49 out of 50\n",
      "50 out of 50\n"
     ]
    }
   ],
   "source": [
    "# Попробуем построить сеть друзей этого пользователя\n",
    "# То есть возьмем всех друзей пользователя, и если они дружат на ВК, построим связи между ними \n",
    "\n",
    "# Если вы совсем не знакомы с сетевым анализом, либо если будет сложно, этот фрагмент пока можно пропустить\n",
    "\n",
    "# Для этого нам надо будет скачать друзей для всех друзей пользователя.\n",
    "\n",
    "# Этот пакет нам пригодиться для того, чтобы делать задержку между запросами, чтобы нас не заблокировали\n",
    "import time\n",
    "\n",
    "# Здесь хранится список id друзей пользователя\n",
    "ego_friends = ego_friends['items']\n",
    "\n",
    "# В этом словаре будем сохранять результат\n",
    "friends = {}\n",
    "\n",
    "# Будем считать, на каком шаге мы сейчас находимся\n",
    "i = 0\n",
    "total = len(ego_friends)\n",
    "\n",
    "# Перебираем всех друзей\n",
    "for friend in ego_friends:\n",
    "    # Пишем на каком мы сейчас шаге\n",
    "    i += 1\n",
    "    print(i, 'out of', total)\n",
    "    \n",
    "    # Этот блок нужен для того, что обрабатывать ошибки, которые могут возникнуть в процессе\n",
    "    # Если ошибка возникает внутри блока try, то выполнение скрипта не прерывается как обычно\n",
    "    # а переходит к блоку except. В данном случае мы просто игнорируем все ошибки, \n",
    "    # но чтобы знать, есть ли они, будем печатать спец сообщение\n",
    "    \n",
    "    try:\n",
    "        # ВКонтакте разрешает выполнять три запросу в секунду. Чтобы гарантировано не выйти за это ограничение\n",
    "        # делаем паузу перед каждым запросом\n",
    "        time.sleep(0.34)\n",
    "        result = api.friends.get(user_id = friend)        \n",
    "        friends[friend] = result['items']\n",
    "    except:\n",
    "        print('Something is wrong...') # если почему-то не получается скачать друзей (например, их список пользователь скрыл), пусть печатается сообщение об ошибке\n",
    "        pass"
   ]
  },
  {
   "cell_type": "code",
   "execution_count": 18,
   "metadata": {},
   "outputs": [],
   "source": [
    "# Создадим теперь граф на основе данных ВКонтакте \n",
    "import networkx as nx\n",
    "G=nx.Graph()\n",
    "\n",
    "# В этом цикле мы перебираем все ключи словаря friends\n",
    "# словарь friends был создан на предыдущем этапе\n",
    "# его ключи это id пользователей ВКонтакте, которые являются друзьями заданного пользователя\n",
    "# а значения - списки друзей этих пользователей\n",
    "for friend in friends:\n",
    "    # friend_friends это друзья друга конкретного пользователя\n",
    "    friend_friends = friends[friend]\n",
    "    # теперь перебираем всех эти друзей друзей\n",
    "    for friend_friend in friend_friends:\n",
    "        # мы хотим построить сеть только для друзей заданного пользователя\n",
    "        # поэтому мы проверяем, является ли друг друга заданного пользователя другом заданного пользователя\n",
    "        # немного запутано ¯\\_(ツ)_/¯\n",
    "        if friend_friend in ego_friends:\n",
    "            # Добавляем ребро в наш граф\n",
    "            G.add_edge(friend, friend_friend)"
   ]
  },
  {
   "cell_type": "code",
   "execution_count": 19,
   "metadata": {},
   "outputs": [
    {
     "name": "stdout",
     "output_type": "stream",
     "text": [
      "161\n",
      "46\n"
     ]
    }
   ],
   "source": [
    "# Смотрим, что в итоге получилось\n",
    "print (G.number_of_edges())\n",
    "print (G.number_of_nodes())"
   ]
  },
  {
   "cell_type": "code",
   "execution_count": 20,
   "metadata": {},
   "outputs": [
    {
     "name": "stderr",
     "output_type": "stream",
     "text": [
      "C:\\Users\\lisch\\AppData\\Local\\Continuum\\anaconda3\\lib\\site-packages\\networkx\\drawing\\nx_pylab.py:579: MatplotlibDeprecationWarning: \n",
      "The iterable function was deprecated in Matplotlib 3.1 and will be removed in 3.3. Use np.iterable instead.\n",
      "  if not cb.iterable(width):\n"
     ]
    },
    {
     "data": {
      "image/png": "[encoded data removed]",
      "text/plain": [
       "<Figure size 1440x720 with 1 Axes>"
      ]
     },
     "metadata": {},
     "output_type": "display_data"
    }
   ],
   "source": [
    "# Подгружаем пакеты для рисования\n",
    "import matplotlib.pyplot as plt\n",
    "%matplotlib inline\n",
    "\n",
    "# Задаем побольше размер графика\n",
    "plt.figure(figsize=(20, 10))\n",
    "\n",
    "# Рисуем граф\n",
    "nx.draw_networkx(G)"
   ]
  },
  {
   "cell_type": "markdown",
   "metadata": {},
   "source": [
    "## Подписки на сообщества"
   ]
  },
  {
   "cell_type": "markdown",
   "metadata": {},
   "source": [
    "К сожалению, некоторые методы ВКонтакте нельзя вызывать только с помощью сервисного ключа доступа, и нужно получить дополнительный ключ. Процедура его получения более сложная.\n",
    "\n",
    "1. Зайдите на страницу с созданным приложением для работы с Vk Api https://vk.com/apps?act=manage, нажмите на кнопку Manage справа, а потом на кнопку Settings слева. На этой странице с настройками приложения нужная вам информация - id приложения (App ID) и защищенный код (Secure key) \n",
    "2. Вначале нужно перейти по следующей ссылке (вы должен быть залогинены на ВКонтакте) - https://oauth.vk.com/authorize?client_id=<Вставьте сюда **ID приложения** из раздела настройки> <br>\n",
    "Должна получиться ссылка вида https://oauth.vk.com/authorize?client_id=1695608 <br>\n",
    "3. Произойдет переход на страницу с адресом вида https://oauth.vk.com/blank.html#code=<**код**>. Нужно скопировать этот код и перейти по еще одной ссылке...\n",
    "\n",
    "4. Чтобы сделать эту ссылку, нужно подставить полученные нами только что **код**, **ID приложения** из настроек и **защищённый ключ** тоже из настроек приложения вот в этот шаблон - https://oauth.vk.com/access_token?client_id=<Вставьте сюда **ID приложения**>&client_secret=<Вставьте сюда **защищенный ключ**>&code=<Вставьте сюда **код**>\n",
    "\n",
    "5. Наконец нужно будет скопировать access_token со страницы, на которую произойдет переход после шага 4. Этот ключ также никому давать нельзя.\n",
    "\n"
   ]
  },
  {
   "cell_type": "code",
   "execution_count": null,
   "metadata": {},
   "outputs": [],
   "source": [
    "ACCESS = \"....\"  #СКОПИРУЙТЕ СЮДА access token\n",
    "\n",
    "# Загрузим подписки друзей заданного пользователя. Документация тут https://dev.vk.com/method/groups\n",
    "# Эта процедура аналогична загрузке друзей.\n",
    "# Нам нужно пересоздать переменную api теперь уже с ключом доступа другого типа,\n",
    "# так как для подписок недостаточного сервисного ключа доступа\n",
    "api = vk_requests.create_api(service_token = ACCESS)\n",
    "\n",
    "groups = {}\n",
    "i = 0\n",
    "total = len(ego_friends)\n",
    "\n",
    "# Перебираем друзей и загружаем их подписки аналогично тому, что делали раньше\n",
    "for friend in ego_friends:\n",
    "    i += 1\n",
    "    print(i, 'out of', total)\n",
    "    try:\n",
    "        # Загружаем для них группы, информация о методе доступна по ссылке https://dev.vk.com/method/groups\n",
    "        time.sleep(0.34)\n",
    "        result = api.groups.get(user_id = friend)        \n",
    "        groups[friend] = result['items']\n",
    "    except:\n",
    "        print('Something is wrong')"
   ]
  },
  {
   "cell_type": "code",
   "execution_count": null,
   "metadata": {},
   "outputs": [],
   "source": [
    "# Посмотрим теперь, какие группы наиболее популярны среди друзей нашего пользователя.\n",
    "# Информацию будем сохранять в переменной counter\n",
    "counter = {}\n",
    "\n",
    "# Ключи словарь groups это id пользователей ВКонтакте,\n",
    "# а значения список id сообществ, на которые они подписаны\n",
    "for friend in groups:\n",
    "    # Перебираем по одной группе\n",
    "    for group in groups[friend]:\n",
    "        # Если такая группа еще не встречалась, то записываем стартовое значение ноль\n",
    "        if group not in counter:\n",
    "            counter[group] = 0\n",
    "        # Увеличиваем счетчик\n",
    "        counter[group] += 1\n",
    "\n",
    "# Теперь мы хотим отсортировать словарь, но не знаем, как это сделать\n",
    "# Первая ссылка в гугл по запросу sort dictionary python \n",
    "# дает ответ https://stackoverflow.com/questions/613183/how-do-i-sort-a-dictionary-by-value\n",
    "ordered = sorted(counter.items(), key=lambda x: x[1])\n",
    "\n",
    "# Выводим 10 самых популярных групп среди друзей пользователя\n",
    "ordered[-10:]"
   ]
  },
  {
   "cell_type": "code",
   "execution_count": null,
   "metadata": {},
   "outputs": [],
   "source": [
    "# Но это id, а мы хотим узнать названия групп\n",
    "# Можем вручную посмотреть, что это за группы, перейдя по ссылкам вида https://vk.com/public26389816.\n",
    "# А можем автоматически скачать информацию, используя API\n",
    "\n",
    "top_groups = ordered[-10:]\n",
    "\n",
    "# Превратим список id групп в строку, где они будут разделены через запятую\n",
    "# Не забудем перевести их в строковый формат\n",
    "top_groups = [str(x[0]) for x in top_groups]\n",
    "top_groups_ids = ','.join(top_groups)\n",
    "\n",
    "# Делаем запрос к API\n",
    "result = api.groups.getById(group_ids = top_groups_ids)\n",
    "\n",
    "for group in result:\n",
    "    print(group['name'])"
   ]
  },
  {
   "cell_type": "markdown",
   "metadata": {},
   "source": [
    "## Получение списка пользователей\n"
   ]
  },
  {
   "cell_type": "markdown",
   "metadata": {},
   "source": [
    "Давайте попробуем скачать всех старшеклассников какой-нибудь школы. Помните о том, что в ответ на запрос выдается не более 1000 элементов. Поэтому чтобы скачать всех учеников школы, нужно формулировать запросы так, чтобы каждому запросу удовлетворяло менее 1000 пользователей (например, ограничивать по возрасту) <br>\n",
    "Нам нужен id какой-нибудь школы. Зайдем на страницу любого человека ВК, щелкнем на указанный на странице номер школы. Мы попадем на страницу со ссылкой вида https://vk.com/search?c%5Bname%5D=0&c%5Bschool%5D=3392&.....<br>\n",
    "Id школы можно взять из этой ссылки -- в данном случае это 3392"
   ]
  },
  {
   "cell_type": "code",
   "execution_count": null,
   "metadata": {},
   "outputs": [],
   "source": [
    "import itertools\n",
    "\n",
    "\n",
    "first_names = [] # отдельный список для имен учеников\n",
    "last_names = [] # отдельный список для фамилий учеников\n",
    "ages = [] # отдельный список для возраста учеников\n",
    "people_ids = [] # отдельный список для идентификаторов учеников в ВК\n",
    "\n",
    "\n",
    "# для получения списка пользователей также нужен access token\n",
    "api = vk_requests.create_api(service_token = ACCESS)\n",
    "\n",
    "for j in list(range(15,18)):\n",
    "        \n",
    "        time.sleep(2) # Перерыв в обращении к API\n",
    "        \n",
    "        pupils = api.users.search(school=3392, age_from = j, age_to = j, count = 1000)\n",
    "        # Поиск людей в возрасте от 15 до 17 лет, указавших принадлежность к школе с id 3392\n",
    "\n",
    "        # Проверка на превышение числа учеников для конкретной школы.\n",
    "        # NB! Данная проверка нужна, чтобы убедиться, что по запросу отдается весь список школьников, который < 1000\n",
    "        if pupils[\"count\"] > 1000:\n",
    "            print(\"в школе больше 1000 учеников этого возраста\")\n",
    "        \n",
    "        for k in pupils[\"items\"]:\n",
    "            first_names.append(k[\"first_name\"])\n",
    "            last_names.append(k[\"last_name\"])\n",
    "            people_ids.append(k[\"id\"])\n",
    "        \n",
    "        # Добавляем возраст учеников\n",
    "        ages.append(list(itertools.repeat(j, len(pupils[\"items\"]))))\n",
    "                   \n",
    "        time.sleep(2) # Перерыв в обращении к API\n",
    "\n",
    "ages = [item for sublist in ages for item in sublist] # преобразуем список с возрастом учеников\n"
   ]
  },
  {
   "cell_type": "code",
   "execution_count": null,
   "metadata": {},
   "outputs": [],
   "source": [
    "import pandas as pd\n",
    "\n",
    "students = pd.DataFrame(list(zip(people_ids,first_names,last_names,ages)), \n",
    "               columns =[\"ID профиля (ВК)\",\"Имя\",\"Фамилия\",\"Возраст\"]) \n",
    "\n",
    "students.to_csv(\"Список учеников школы (raw data).csv\") # записываем полученные данные в файл\n",
    "\n",
    "print(\"Длина полученного датафрейма:\", len(students))\n",
    "students.head()"
   ]
  }
 ],
 "metadata": {
  "kernelspec": {
   "display_name": "Python 3",
   "language": "python",
   "name": "python3"
  },
  "language_info": {
   "codemirror_mode": {
    "name": "ipython",
    "version": 3
   },
   "file_extension": ".py",
   "mimetype": "text/x-python",
   "name": "python",
   "nbconvert_exporter": "python",
   "pygments_lexer": "ipython3",
   "version": "3.7.3"
  }
 },
 "nbformat": 4,
 "nbformat_minor": 2
}
